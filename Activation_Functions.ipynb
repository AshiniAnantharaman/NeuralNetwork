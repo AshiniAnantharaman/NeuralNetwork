{
  "nbformat": 4,
  "nbformat_minor": 0,
  "metadata": {
    "colab": {
      "name": "Copy of Activation_Functions.ipynb",
      "provenance": [],
      "collapsed_sections": [],
      "authorship_tag": "ABX9TyMVNYM/LrJethLIs7Iz7/ox",
      "include_colab_link": true
    },
    "kernelspec": {
      "name": "python3",
      "display_name": "Python 3"
    },
    "language_info": {
      "name": "python"
    }
  },
  "cells": [
    {
      "cell_type": "markdown",
      "metadata": {
        "id": "view-in-github",
        "colab_type": "text"
      },
      "source": [
        "<a href=\"https://colab.research.google.com/github/AshiniAnantharaman/NeuralNetwork/blob/main/Activation_Functions.ipynb\" target=\"_parent\"><img src=\"https://colab.research.google.com/assets/colab-badge.svg\" alt=\"Open In Colab\"/></a>"
      ]
    },
    {
      "cell_type": "markdown",
      "source": [
        "#<center> ACTIVATION FUNCTIONS\n",
        "\n",
        "Activation function in a neural network basically decides whether a neuron should be activated or not based on the weights and bias values provided for it.\n",
        "\n",
        "<p align=\"center\">\n",
        "  <img width=\"460\" height=\"200\" src=\"https://editor.analyticsvidhya.com/uploads/49097ACT.gif\">\n",
        "</p>\n",
        "\n"
      ],
      "metadata": {
        "id": "7qQ3Kz7P4xvM"
      }
    },
    {
      "cell_type": "markdown",
      "source": [
        "###<center> TYPES OF ACTIVATION FUNCTIONS\n",
        "There are different types of activation functions.\n",
        "- Sigmoidal Function\n",
        "- Tanh\n",
        "- ReLU\n",
        "- Leaky ReLU\n",
        "\n",
        "<p align=\"center\">\n",
        "  <img width=\"800\" height=\"600\" src=\"https://www.researchgate.net/publication/339991922/figure/fig4/AS:870241110339586@1584493057180/Plot-of-different-activation-functions-a-Sigmoid-activation-function-b-Tanh.ppm\">\n",
        "</p>\n"
      ],
      "metadata": {
        "id": "EtAlBvK785b1"
      }
    },
    {
      "cell_type": "markdown",
      "source": [
        "#### 1. LINEAR FUNCTION\n",
        "\n",
        "**Equation used:**\n",
        "<p align=\"center\">\n",
        "  <img width=\"200\" height=\"175\" src=\"https://assets-global.website-files.com/5d7b77b063a9066d83e1209c/60be2b655d7486422e5de081_math-20210607%20(20).png\">\n",
        "</p>\n",
        "\n",
        "**Curve:**\n",
        "<p align=\"center\">\n",
        "  <img width=\"700\" height=\"450\" src=\"https://assets-global.website-files.com/5d7b77b063a9066d83e1209c/60d244bb0e12c94fb442c01e_pasted%20image%200%20(4).jpg\">\n",
        "</p>\n"
      ],
      "metadata": {
        "id": "Lx3FRsZWJdav"
      }
    },
    {
      "cell_type": "code",
      "source": [
        "def linear(x):\n",
        "  return x"
      ],
      "metadata": {
        "id": "RsRfRdvJKMSM"
      },
      "execution_count": null,
      "outputs": []
    },
    {
      "cell_type": "code",
      "source": [
        "linear(8)"
      ],
      "metadata": {
        "id": "G9E3U2T3Ka9C",
        "outputId": "bb51115b-a1ba-4121-82d1-7e45f0906917",
        "colab": {
          "base_uri": "https://localhost:8080/"
        }
      },
      "execution_count": null,
      "outputs": [
        {
          "output_type": "execute_result",
          "data": {
            "text/plain": [
              "8"
            ]
          },
          "metadata": {},
          "execution_count": 3
        }
      ]
    },
    {
      "cell_type": "code",
      "source": [
        "linear(-18)"
      ],
      "metadata": {
        "id": "s3h0yFAUKdmT",
        "outputId": "a91cad66-cf71-4446-e121-4514e801876a",
        "colab": {
          "base_uri": "https://localhost:8080/"
        }
      },
      "execution_count": null,
      "outputs": [
        {
          "output_type": "execute_result",
          "data": {
            "text/plain": [
              "-18"
            ]
          },
          "metadata": {},
          "execution_count": 4
        }
      ]
    },
    {
      "cell_type": "markdown",
      "source": [
        "#### 2. SIGMOID FUNCTION\n",
        "\n",
        "**Equation used:**\n",
        "<p align=\"center\">\n",
        "  <img width=\"400\" height=\"100\" src=\"https://www.gstatic.com/education/formulas2/443397389/en/sigmoid_function.svg\">\n",
        "</p>\n",
        "\n",
        "**Curve:**\n",
        "<p align=\"center\">\n",
        "  <img width=\"700\" height=\"400\" src=\"https://predictivehacks.com/wp-content/uploads/2021/02/1200px-Logistic-curve.svg.png\">\n",
        "</p>\n"
      ],
      "metadata": {
        "id": "iEretYIQ8_lD"
      }
    },
    {
      "cell_type": "code",
      "execution_count": null,
      "metadata": {
        "id": "8ifbEGulwlw_"
      },
      "outputs": [],
      "source": [
        "import math\n",
        "\n",
        "def sigmoid(x):\n",
        "  return 1/(1 + math.exp(-x))"
      ]
    },
    {
      "cell_type": "code",
      "source": [
        "sigmoid(0)"
      ],
      "metadata": {
        "colab": {
          "base_uri": "https://localhost:8080/"
        },
        "id": "-4HI5OnXxZH_",
        "outputId": "e51b0309-8d5d-40ca-a5b4-134f0851970a"
      },
      "execution_count": null,
      "outputs": [
        {
          "output_type": "execute_result",
          "data": {
            "text/plain": [
              "0.5"
            ]
          },
          "metadata": {},
          "execution_count": 3
        }
      ]
    },
    {
      "cell_type": "code",
      "source": [
        "sigmoid(15)"
      ],
      "metadata": {
        "colab": {
          "base_uri": "https://localhost:8080/"
        },
        "id": "Do9-cdL3xbIo",
        "outputId": "2ea1acf4-faa3-415d-c290-03bf826f0df0"
      },
      "execution_count": null,
      "outputs": [
        {
          "output_type": "execute_result",
          "data": {
            "text/plain": [
              "0.999999694097773"
            ]
          },
          "metadata": {},
          "execution_count": 4
        }
      ]
    },
    {
      "cell_type": "code",
      "source": [
        "sigmoid(-3)"
      ],
      "metadata": {
        "colab": {
          "base_uri": "https://localhost:8080/"
        },
        "id": "XuxBeI4lxdvT",
        "outputId": "d997c4da-efca-420f-c143-65271e20d43a"
      },
      "execution_count": null,
      "outputs": [
        {
          "output_type": "execute_result",
          "data": {
            "text/plain": [
              "0.04742587317756678"
            ]
          },
          "metadata": {},
          "execution_count": 5
        }
      ]
    },
    {
      "cell_type": "code",
      "source": [
        "sigmoid(0.067)"
      ],
      "metadata": {
        "colab": {
          "base_uri": "https://localhost:8080/"
        },
        "id": "11Rih9rexf3f",
        "outputId": "08429856-cda8-4797-d963-149202160034"
      },
      "execution_count": null,
      "outputs": [
        {
          "output_type": "execute_result",
          "data": {
            "text/plain": [
              "0.5167437369156502"
            ]
          },
          "metadata": {},
          "execution_count": 6
        }
      ]
    },
    {
      "cell_type": "markdown",
      "source": [
        "#### 3. TANH FUNCTION\n",
        "\n",
        "**Equation Used:**\n",
        "<p align=\"center\">\n",
        "  <img width=\"400\" height=\"100\" src=\"https://wikimedia.org/api/rest_v1/media/math/render/svg/b8dc4c309a551cafc2ce5c883c924ecd87664b0f\">\n",
        "</p>\n",
        "\n",
        "**Curve**\n",
        "\n",
        "<p align=\"center\">\n",
        "  <img width=\"800\" height=\"500\" src=\"https://i.stack.imgur.com/vxfdW.png\">\n",
        "</p>"
      ],
      "metadata": {
        "id": "TS9tp0Le9-AI"
      }
    },
    {
      "cell_type": "code",
      "source": [
        "def tanh(x):\n",
        "  return ((math.exp(x) - math.exp(-x))/(math.exp(x) + math.exp(-x)))"
      ],
      "metadata": {
        "id": "X8kKziI4xHtb"
      },
      "execution_count": null,
      "outputs": []
    },
    {
      "cell_type": "code",
      "source": [
        "tanh(0)"
      ],
      "metadata": {
        "colab": {
          "base_uri": "https://localhost:8080/"
        },
        "id": "R1uWCfD6xkei",
        "outputId": "2c5f82a9-c4c4-435a-e75d-f2ab0dd41963"
      },
      "execution_count": null,
      "outputs": [
        {
          "output_type": "execute_result",
          "data": {
            "text/plain": [
              "0.0"
            ]
          },
          "metadata": {},
          "execution_count": 8
        }
      ]
    },
    {
      "cell_type": "code",
      "source": [
        "tanh(0.05)"
      ],
      "metadata": {
        "colab": {
          "base_uri": "https://localhost:8080/"
        },
        "id": "wxyUEdYHxocM",
        "outputId": "aef6ce9f-e56f-46dc-cee9-016f651f6e0d"
      },
      "execution_count": null,
      "outputs": [
        {
          "output_type": "execute_result",
          "data": {
            "text/plain": [
              "0.049958374957880004"
            ]
          },
          "metadata": {},
          "execution_count": 9
        }
      ]
    },
    {
      "cell_type": "code",
      "source": [
        "tanh(-10)"
      ],
      "metadata": {
        "colab": {
          "base_uri": "https://localhost:8080/"
        },
        "id": "AbU1H9I2xrHj",
        "outputId": "4bfc8ac3-028e-40d7-c63c-c2d50c7d6b12"
      },
      "execution_count": null,
      "outputs": [
        {
          "output_type": "execute_result",
          "data": {
            "text/plain": [
              "-0.9999999958776926"
            ]
          },
          "metadata": {},
          "execution_count": 10
        }
      ]
    },
    {
      "cell_type": "code",
      "source": [
        "tanh(56)"
      ],
      "metadata": {
        "colab": {
          "base_uri": "https://localhost:8080/"
        },
        "id": "0ml-J5tKyFEv",
        "outputId": "441e90f6-1bcb-466a-b6dc-ccf309811cf9"
      },
      "execution_count": null,
      "outputs": [
        {
          "output_type": "execute_result",
          "data": {
            "text/plain": [
              "1.0"
            ]
          },
          "metadata": {},
          "execution_count": 12
        }
      ]
    },
    {
      "cell_type": "markdown",
      "source": [
        "#### 4. ReLU - Rectified Linear Unit FUNCTION\n",
        "\n",
        "**Equation Used:**\n",
        "<p align=\"center\">\n",
        "  <img width=\"200\" height=\"150\" src=\"https://assets-global.website-files.com/5d7b77b063a9066d83e1209c/60be1b236a3731df9b1d43c9_math-20210607%20(11).png\">\n",
        "</p>\n",
        "\n",
        "**Curve:**\n",
        "<p align=\"center\">\n",
        "  <img width=\"500\" height=\"250\" src=\"https://miro.medium.com/max/1400/1*DfMRHwxY1gyyDmrIAd-gjQ.png\">\n",
        "</p>"
      ],
      "metadata": {
        "id": "GILgUoup8oaw"
      }
    },
    {
      "cell_type": "code",
      "source": [
        "def relu(x):\n",
        "  return max(0,x)"
      ],
      "metadata": {
        "id": "VppumvVuySKO"
      },
      "execution_count": null,
      "outputs": []
    },
    {
      "cell_type": "code",
      "source": [
        "relu(-10)"
      ],
      "metadata": {
        "colab": {
          "base_uri": "https://localhost:8080/"
        },
        "id": "lu-O5AR7yWBH",
        "outputId": "ca5ecfdf-2146-401b-d90a-b125e4e8680a"
      },
      "execution_count": null,
      "outputs": [
        {
          "output_type": "execute_result",
          "data": {
            "text/plain": [
              "0"
            ]
          },
          "metadata": {},
          "execution_count": 15
        }
      ]
    },
    {
      "cell_type": "code",
      "source": [
        "relu(0.24)"
      ],
      "metadata": {
        "colab": {
          "base_uri": "https://localhost:8080/"
        },
        "id": "x-33cow7yXzb",
        "outputId": "9fb6ca32-8a3f-4f20-e52b-6756b7ac173b"
      },
      "execution_count": null,
      "outputs": [
        {
          "output_type": "execute_result",
          "data": {
            "text/plain": [
              "0.24"
            ]
          },
          "metadata": {},
          "execution_count": 16
        }
      ]
    },
    {
      "cell_type": "code",
      "source": [
        "relu(0.5)"
      ],
      "metadata": {
        "colab": {
          "base_uri": "https://localhost:8080/"
        },
        "id": "N0RsdRQOydtm",
        "outputId": "6ef236d2-8a75-4388-9865-6e84d4d05d3c"
      },
      "execution_count": null,
      "outputs": [
        {
          "output_type": "execute_result",
          "data": {
            "text/plain": [
              "0.5"
            ]
          },
          "metadata": {},
          "execution_count": 17
        }
      ]
    },
    {
      "cell_type": "code",
      "source": [
        "relu(-0.65)"
      ],
      "metadata": {
        "colab": {
          "base_uri": "https://localhost:8080/"
        },
        "id": "vpow7077yfa7",
        "outputId": "d474d8ae-9ea8-4310-9782-8944460d7e3f"
      },
      "execution_count": null,
      "outputs": [
        {
          "output_type": "execute_result",
          "data": {
            "text/plain": [
              "0"
            ]
          },
          "metadata": {},
          "execution_count": 18
        }
      ]
    },
    {
      "cell_type": "markdown",
      "source": [
        "#### 5. LEAKY RELU FUNCTION\n",
        "\n",
        "**Equation:**\n",
        "<p align=\"center\">\n",
        "  <img width=\"350\" height=\"200\" src=\"https://assets-global.website-files.com/5d7b77b063a9066d83e1209c/60be1b96b195d1119c30eddf_math-20210607%20(12).png\">\n",
        "</p>\n",
        "\n",
        "**Curve:**\n",
        "<p align=\"center\">\n",
        "  <img width=\"500\" height=\"350\" src=\"https://assets-global.website-files.com/5d7b77b063a9066d83e1209c/60d2474e3a0f7a4010b6129e_pasted%20image%200%20(10).jpg\">\n",
        "</p>"
      ],
      "metadata": {
        "id": "A6zI2PEz8s5f"
      }
    },
    {
      "cell_type": "code",
      "source": [
        "def leaky_relu(x):\n",
        "  return max(0.1*x,x)"
      ],
      "metadata": {
        "id": "E9yrdwxcyl25"
      },
      "execution_count": null,
      "outputs": []
    },
    {
      "cell_type": "code",
      "source": [
        "leaky_relu(-0.87)"
      ],
      "metadata": {
        "colab": {
          "base_uri": "https://localhost:8080/"
        },
        "id": "l5KxgDLrysQz",
        "outputId": "b94cda02-e53e-4d7f-b71b-72a4950a4e43"
      },
      "execution_count": null,
      "outputs": [
        {
          "output_type": "execute_result",
          "data": {
            "text/plain": [
              "-0.08700000000000001"
            ]
          },
          "metadata": {},
          "execution_count": 20
        }
      ]
    },
    {
      "cell_type": "code",
      "source": [
        "leaky_relu(-100.87)"
      ],
      "metadata": {
        "colab": {
          "base_uri": "https://localhost:8080/"
        },
        "id": "FnOYkT3Ly2az",
        "outputId": "decb59c5-6598-4c6e-c0b2-c2d12d5cdebe"
      },
      "execution_count": null,
      "outputs": [
        {
          "output_type": "execute_result",
          "data": {
            "text/plain": [
              "-10.087000000000002"
            ]
          },
          "metadata": {},
          "execution_count": 21
        }
      ]
    },
    {
      "cell_type": "code",
      "source": [
        "leaky_relu(0.79)"
      ],
      "metadata": {
        "colab": {
          "base_uri": "https://localhost:8080/"
        },
        "id": "p6nOPRntywcP",
        "outputId": "186c577f-dd00-4e54-91af-e2781d15b49b"
      },
      "execution_count": null,
      "outputs": [
        {
          "output_type": "execute_result",
          "data": {
            "text/plain": [
              "0.79"
            ]
          },
          "metadata": {},
          "execution_count": 22
        }
      ]
    }
  ]
}