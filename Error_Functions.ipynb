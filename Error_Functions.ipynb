{
  "nbformat": 4,
  "nbformat_minor": 0,
  "metadata": {
    "colab": {
      "name": "Error_Functions.ipynb",
      "provenance": [],
      "collapsed_sections": [],
      "authorship_tag": "ABX9TyN6yq4mVwlKvPWWOGYHNItY",
      "include_colab_link": true
    },
    "kernelspec": {
      "name": "python3",
      "display_name": "Python 3"
    },
    "language_info": {
      "name": "python"
    }
  },
  "cells": [
    {
      "cell_type": "markdown",
      "metadata": {
        "id": "view-in-github",
        "colab_type": "text"
      },
      "source": [
        "<a href=\"https://colab.research.google.com/github/AshiniAnantharaman/NeuralNetwork/blob/main/Error_Functions.ipynb\" target=\"_parent\"><img src=\"https://colab.research.google.com/assets/colab-badge.svg\" alt=\"Open In Colab\"/></a>"
      ]
    },
    {
      "cell_type": "markdown",
      "source": [
        "# ERROR FUNCTION\n",
        "The loss function in a neural network quantifies the difference between the expected outcome and the outcome produced by the machine learning model. From the loss function, we can derive the gradients which are used to update the weights. The average over all losses constitutes the cost. "
      ],
      "metadata": {
        "id": "qvuK-NCvUSmx"
      }
    },
    {
      "cell_type": "code",
      "execution_count": null,
      "metadata": {
        "id": "40eYGPZZi5nv"
      },
      "outputs": [],
      "source": [
        "import numpy as np\n",
        "\n",
        "y_predicted = np.array([1,1,0,0,1])\n",
        "y_actual = np.array([0.30,0.7,1,0,0.5])"
      ]
    },
    {
      "cell_type": "markdown",
      "source": [
        "# USING MEAN ABSOLUTE ERROR\n",
        "\n",
        "Mean absolute error (MAE) also called L1 Loss is a loss function used for regression problems. It represents the difference between the original and predicted values extracted by averaging the absolute difference over the data set.\n",
        "\n",
        "<p align=\"center\">\n",
        "  <img width=\"460\" height=\"150\" src=\"https://static.wixstatic.com/media/3eee0b_1fa9d29b6ad449fd869033df4c3ca188~mv2.png/v1/fill/w_384,h_123,al_c,lg_1,q_90/3eee0b_1fa9d29b6ad449fd869033df4c3ca188~mv2.webp\">\n",
        "</p>"
      ],
      "metadata": {
        "id": "HusOeeHemkP7"
      }
    },
    {
      "cell_type": "code",
      "source": [
        "def mean_abs_error(y_actual,y_predicted):\n",
        "  total_error = 0\n",
        "  for yp, ya in zip(y_predicted, y_actual):\n",
        "    total_error += abs(ya - yp)\n",
        "  print(\"Total Error: \", total_error)\n",
        "  mae = total_error/len(y_predicted)\n",
        "  print(\"MAE :\", mae)\n",
        "  return mae"
      ],
      "metadata": {
        "id": "jEM4xQKsjdHz"
      },
      "execution_count": null,
      "outputs": []
    },
    {
      "cell_type": "code",
      "source": [
        "mean_abs_error(y_actual, y_predicted)"
      ],
      "metadata": {
        "colab": {
          "base_uri": "https://localhost:8080/"
        },
        "id": "AkmhbtVfkOrp",
        "outputId": "5802e936-2087-4d6b-828e-bd5993018a57"
      },
      "execution_count": null,
      "outputs": [
        {
          "output_type": "stream",
          "name": "stdout",
          "text": [
            "Total Error:  2.5\n",
            "MAE : 0.5\n"
          ]
        },
        {
          "output_type": "execute_result",
          "data": {
            "text/plain": [
              "0.5"
            ]
          },
          "metadata": {},
          "execution_count": 19
        }
      ]
    },
    {
      "cell_type": "markdown",
      "source": [
        "### USING NUMPY LIBRARY"
      ],
      "metadata": {
        "id": "_8gwsQ1KmXEq"
      }
    },
    {
      "cell_type": "code",
      "source": [
        "np.mean(np.abs(y_predicted - y_actual))"
      ],
      "metadata": {
        "colab": {
          "base_uri": "https://localhost:8080/"
        },
        "id": "yI9a_leUmHlC",
        "outputId": "35837674-98b5-4fc6-e4c0-4e198b54ec8a"
      },
      "execution_count": null,
      "outputs": [
        {
          "output_type": "execute_result",
          "data": {
            "text/plain": [
              "0.5"
            ]
          },
          "metadata": {},
          "execution_count": 20
        }
      ]
    },
    {
      "cell_type": "markdown",
      "source": [
        "# MEAN SQUARE ERROR\n",
        "\n",
        "Mean Squared Error (MSE) also called L2 Loss is also a loss function used for regression. It represents the difference between the original and predicted values extracted by squared the average difference over the data set.\n",
        "\n",
        "<p align=\"center\">\n",
        "  <img width=\"460\" height=\"150\" src=\"https://static.wixstatic.com/media/3eee0b_b454d6ac19f34adf8108503a79e65f0c~mv2.png/v1/fill/w_384,h_123,al_c,lg_1,q_90/3eee0b_b454d6ac19f34adf8108503a79e65f0c~mv2.webp\">\n",
        "</p>"
      ],
      "metadata": {
        "id": "0-A4uQZ9oFou"
      }
    },
    {
      "cell_type": "code",
      "source": [
        "def mean_square_error(y_actual, y_predicted):\n",
        "  total_error = 0\n",
        "  for yp, ya in zip(y_predicted, y_actual):\n",
        "    total_error += ((ya - yp) ** 2) \n",
        "  print(\"Total Error: \", total_error)\n",
        "  mse = total_error/len(y_predicted)\n",
        "  print(\"MAE :\", mse)\n",
        "  return mse"
      ],
      "metadata": {
        "id": "XF4EBLpPoyGC"
      },
      "execution_count": null,
      "outputs": []
    },
    {
      "cell_type": "code",
      "source": [
        "np.mean(np.square(y_predicted - y_actual))"
      ],
      "metadata": {
        "colab": {
          "base_uri": "https://localhost:8080/"
        },
        "id": "XZRAT9jKoFTI",
        "outputId": "757d4421-124d-45f7-8a45-2cc97e3e69fd"
      },
      "execution_count": null,
      "outputs": [
        {
          "output_type": "execute_result",
          "data": {
            "text/plain": [
              "0.366"
            ]
          },
          "metadata": {},
          "execution_count": 50
        }
      ]
    },
    {
      "cell_type": "code",
      "source": [
        "mean_square_error(y_actual, y_predicted)"
      ],
      "metadata": {
        "colab": {
          "base_uri": "https://localhost:8080/"
        },
        "id": "qThc1y1VoUqs",
        "outputId": "432bd812-80bd-4281-fb12-31b2dc12fe22"
      },
      "execution_count": null,
      "outputs": [
        {
          "output_type": "stream",
          "name": "stdout",
          "text": [
            "Total Error:  1.83\n",
            "MAE : 0.366\n"
          ]
        },
        {
          "output_type": "execute_result",
          "data": {
            "text/plain": [
              "0.366"
            ]
          },
          "metadata": {},
          "execution_count": 51
        }
      ]
    },
    {
      "cell_type": "markdown",
      "source": [
        "# LOG LOSS or BINARY CROSS ENTROPY\n",
        "\n",
        "Cross-Entropy loss is also called logarithmic loss, log loss, or logistic loss. Each predicted class probability is compared to the actual class desired output 0 or 1 and a score/loss is calculated that penalizes the probability based on how far it is from the actual expected value.\n",
        "\n",
        "<p align=\"center\">\n",
        "  <img width=\"460\" height=\"100\" src=\"https://static.wixstatic.com/media/3eee0b_86276de0d22747b99c0e1df5c34d0e92~mv2.png/v1/fill/w_668,h_151,al_c,lg_1,q_90/3eee0b_86276de0d22747b99c0e1df5c34d0e92~mv2.webp\">\n",
        "</p>"
      ],
      "metadata": {
        "id": "3Rc_MNSvmbsy"
      }
    },
    {
      "cell_type": "code",
      "source": [
        "def log_loss(y_actual, y_predicted):\n",
        "  epsilon = 1e-15\n",
        "  y_predicted_new = [max(i,epsilon) for i in y_predicted ] \n",
        "  y_predicted_new = [min(i,1-epsilon) for i in y_predicted_new ] \n",
        "  y_predicted_new = np.array(y_predicted_new)\n",
        "  return -np.mean(y_actual*np.log(y_predicted_new) + (1-y_actual) * np.log(1-y_predicted_new))"
      ],
      "metadata": {
        "id": "pIvLRA73qPPK"
      },
      "execution_count": null,
      "outputs": []
    },
    {
      "cell_type": "code",
      "source": [
        "print(log_loss(y_actual,y_predicted))"
      ],
      "metadata": {
        "colab": {
          "base_uri": "https://localhost:8080/"
        },
        "id": "S89uEczJq2Fq",
        "outputId": "8208977b-0a89-48bf-9586-d06befe5f57d"
      },
      "execution_count": null,
      "outputs": [
        {
          "output_type": "stream",
          "name": "stdout",
          "text": [
            "17.2696280766844\n"
          ]
        }
      ]
    }
  ]
}